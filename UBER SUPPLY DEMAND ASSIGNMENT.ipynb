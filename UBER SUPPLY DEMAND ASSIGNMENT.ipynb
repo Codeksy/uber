{
 "cells": [
  {
   "cell_type": "markdown",
   "metadata": {},
   "source": [
    "# UBER SUPPLY-DEMAND ASSIGNMENT\n",
    "#### Aimed at  giving direction to beginners in data science: How to perform Univariate Analysis\n",
    "This case study introduces to the world of univariate and segmented univariate analysis using visualizations. This is completed as part of assignment in a course by UpGrad & IIIT B data science pprogram\n",
    "__`This work is meticulously documented with an intention to make beginners understand how we go about with data step by step `__ <br>\n",
    "\n",
    "Steps include:\n",
    "1. Importing libraries\n",
    "2. Data import\n",
    "3. Inspecting data\n",
    "4. Cleaning Data\n",
    "5. Deriving Metrics\n",
    "6. Visualization of data\n",
    "    - Univariate Analysis\n",
    "    - Segmented Univariate Analysis\n",
    "    - Bivariate Analysis\n",
    "\n",
    "\n",
    "\n",
    "#### `WELCOME! To my Jupyter NoteBook`\n",
    "__`Note:`__ Problem statement is given in `README`"
   ]
  },
  {
   "cell_type": "markdown",
   "metadata": {},
   "source": [
    "### Importing necessary libraries"
   ]
  },
  {
   "cell_type": "code",
   "execution_count": 393,
   "metadata": {},
   "outputs": [],
   "source": [
    "# Supress Warnings\n",
    "\n",
    "import warnings\n",
    "warnings.filterwarnings('ignore')"
   ]
  },
  {
   "cell_type": "code",
   "execution_count": 394,
   "metadata": {},
   "outputs": [],
   "source": [
    "import pandas as pd                     # Querying library\n",
    "import numpy as np                      # Numerical computing library\n",
    "import matplotlib.pyplot as plt         # Visualization library\n",
    "import seaborn as sns                   # Visualization library"
   ]
  },
  {
   "cell_type": "markdown",
   "metadata": {},
   "source": [
    "## Task 0:  Loading  Data"
   ]
  },
  {
   "cell_type": "code",
   "execution_count": 395,
   "metadata": {},
   "outputs": [],
   "source": [
    "# Reading 'Uber Request Data.csv' file into a dataframe \n",
    "uber = pd.read_csv('Uber Request Data.csv')"
   ]
  },
  {
   "cell_type": "markdown",
   "metadata": {},
   "source": [
    "### Subtask 0.1: `Inspecting` data element\n",
    "\n",
    "  1. View the dataframe.  `Syntax: df.head()`\n",
    "  2. Check the dimensions of the dataframe.  `Syntax: df.shape`\n",
    "  3. Understand the data types, no of non-null data to get an initial look at data attributes.  `Syntax: df.info()`\n",
    "  4. Column listing to understand the metadata information of the data. `Syntax: df.columns`\n",
    "  5. Descriptive statistics to understand the primary spread of the data.   `Syntax: df.describe()` "
   ]
  },
  {
   "cell_type": "markdown",
   "metadata": {},
   "source": [
    " __*`Note:`*__  *In this work, our dataframe, `df` is __`uber`__.*"
   ]
  },
  {
   "cell_type": "code",
   "execution_count": 396,
   "metadata": {},
   "outputs": [
    {
     "data": {
      "text/html": [
       "<div>\n",
       "<style scoped>\n",
       "    .dataframe tbody tr th:only-of-type {\n",
       "        vertical-align: middle;\n",
       "    }\n",
       "\n",
       "    .dataframe tbody tr th {\n",
       "        vertical-align: top;\n",
       "    }\n",
       "\n",
       "    .dataframe thead th {\n",
       "        text-align: right;\n",
       "    }\n",
       "</style>\n",
       "<table border=\"1\" class=\"dataframe\">\n",
       "  <thead>\n",
       "    <tr style=\"text-align: right;\">\n",
       "      <th></th>\n",
       "      <th>Request id</th>\n",
       "      <th>Pickup point</th>\n",
       "      <th>Driver id</th>\n",
       "      <th>Status</th>\n",
       "      <th>Request timestamp</th>\n",
       "      <th>Drop timestamp</th>\n",
       "    </tr>\n",
       "  </thead>\n",
       "  <tbody>\n",
       "    <tr>\n",
       "      <th>0</th>\n",
       "      <td>619</td>\n",
       "      <td>Airport</td>\n",
       "      <td>1.0</td>\n",
       "      <td>Trip Completed</td>\n",
       "      <td>11/7/2016 11:51</td>\n",
       "      <td>11/7/2016 13:00</td>\n",
       "    </tr>\n",
       "    <tr>\n",
       "      <th>1</th>\n",
       "      <td>867</td>\n",
       "      <td>Airport</td>\n",
       "      <td>1.0</td>\n",
       "      <td>Trip Completed</td>\n",
       "      <td>11/7/2016 17:57</td>\n",
       "      <td>11/7/2016 18:47</td>\n",
       "    </tr>\n",
       "    <tr>\n",
       "      <th>2</th>\n",
       "      <td>1807</td>\n",
       "      <td>City</td>\n",
       "      <td>1.0</td>\n",
       "      <td>Trip Completed</td>\n",
       "      <td>12/7/2016 9:17</td>\n",
       "      <td>12/7/2016 9:58</td>\n",
       "    </tr>\n",
       "    <tr>\n",
       "      <th>3</th>\n",
       "      <td>2532</td>\n",
       "      <td>Airport</td>\n",
       "      <td>1.0</td>\n",
       "      <td>Trip Completed</td>\n",
       "      <td>12/7/2016 21:08</td>\n",
       "      <td>12/7/2016 22:03</td>\n",
       "    </tr>\n",
       "    <tr>\n",
       "      <th>4</th>\n",
       "      <td>3112</td>\n",
       "      <td>City</td>\n",
       "      <td>1.0</td>\n",
       "      <td>Trip Completed</td>\n",
       "      <td>13-07-2016 08:33:16</td>\n",
       "      <td>13-07-2016 09:25:47</td>\n",
       "    </tr>\n",
       "  </tbody>\n",
       "</table>\n",
       "</div>"
      ],
      "text/plain": [
       "   Request id Pickup point  Driver id          Status    Request timestamp  \\\n",
       "0         619      Airport        1.0  Trip Completed      11/7/2016 11:51   \n",
       "1         867      Airport        1.0  Trip Completed      11/7/2016 17:57   \n",
       "2        1807         City        1.0  Trip Completed       12/7/2016 9:17   \n",
       "3        2532      Airport        1.0  Trip Completed      12/7/2016 21:08   \n",
       "4        3112         City        1.0  Trip Completed  13-07-2016 08:33:16   \n",
       "\n",
       "        Drop timestamp  \n",
       "0      11/7/2016 13:00  \n",
       "1      11/7/2016 18:47  \n",
       "2       12/7/2016 9:58  \n",
       "3      12/7/2016 22:03  \n",
       "4  13-07-2016 09:25:47  "
      ]
     },
     "execution_count": 396,
     "metadata": {},
     "output_type": "execute_result"
    }
   ],
   "source": [
    "# 1. View the dataframe:\n",
    "uber.head()"
   ]
  },
  {
   "cell_type": "code",
   "execution_count": 397,
   "metadata": {},
   "outputs": [
    {
     "data": {
      "text/plain": [
       "(6745, 6)"
      ]
     },
     "execution_count": 397,
     "metadata": {},
     "output_type": "execute_result"
    }
   ],
   "source": [
    "# 2. Dimensions:\n",
    "uber.shape"
   ]
  },
  {
   "cell_type": "code",
   "execution_count": 398,
   "metadata": {},
   "outputs": [
    {
     "name": "stdout",
     "output_type": "stream",
     "text": [
      "<class 'pandas.core.frame.DataFrame'>\n",
      "RangeIndex: 6745 entries, 0 to 6744\n",
      "Data columns (total 6 columns):\n",
      "Request id           6745 non-null int64\n",
      "Pickup point         6745 non-null object\n",
      "Driver id            4095 non-null float64\n",
      "Status               6745 non-null object\n",
      "Request timestamp    6745 non-null object\n",
      "Drop timestamp       2831 non-null object\n",
      "dtypes: float64(1), int64(1), object(4)\n",
      "memory usage: 316.2+ KB\n"
     ]
    }
   ],
   "source": [
    "# 3.Information:\n",
    "uber.info()"
   ]
  },
  {
   "cell_type": "markdown",
   "metadata": {},
   "source": [
    "__*`Observations:`*__\n",
    "- `Driver id` and `Drop timestamp` has missing data\n",
    "- Data types for `date-time related columns` should be changed to __`datetime`__."
   ]
  },
  {
   "cell_type": "code",
   "execution_count": 399,
   "metadata": {},
   "outputs": [
    {
     "data": {
      "text/plain": [
       "Index(['Request id', 'Pickup point', 'Driver id', 'Status',\n",
       "       'Request timestamp', 'Drop timestamp'],\n",
       "      dtype='object')"
      ]
     },
     "execution_count": 399,
     "metadata": {},
     "output_type": "execute_result"
    }
   ],
   "source": [
    "# 4. Columns\n",
    "uber.columns"
   ]
  },
  {
   "cell_type": "markdown",
   "metadata": {},
   "source": [
    "**`Metadata`**  information on each column:\n",
    "  1. __`Request id:`__ A unique identifier of the request\n",
    "  2. __`Request timestamp:`__ The date and time at which the customer made the trip request\n",
    "  3. __`Drop timestamp:`__ The drop-off date and time, in case the trip was completed \n",
    "  4. __`Pickup point:`__ The point from which the request was made\n",
    "  5. __`Driver id:`__ The unique identification number of the driver\n",
    "  6. __`Status:`__ The final status of the trip  (completed, cancelled by driver or no cars available)"
   ]
  },
  {
   "cell_type": "code",
   "execution_count": 400,
   "metadata": {
    "scrolled": true
   },
   "outputs": [
    {
     "data": {
      "text/html": [
       "<div>\n",
       "<style scoped>\n",
       "    .dataframe tbody tr th:only-of-type {\n",
       "        vertical-align: middle;\n",
       "    }\n",
       "\n",
       "    .dataframe tbody tr th {\n",
       "        vertical-align: top;\n",
       "    }\n",
       "\n",
       "    .dataframe thead th {\n",
       "        text-align: right;\n",
       "    }\n",
       "</style>\n",
       "<table border=\"1\" class=\"dataframe\">\n",
       "  <thead>\n",
       "    <tr style=\"text-align: right;\">\n",
       "      <th></th>\n",
       "      <th>Request id</th>\n",
       "      <th>Driver id</th>\n",
       "    </tr>\n",
       "  </thead>\n",
       "  <tbody>\n",
       "    <tr>\n",
       "      <th>count</th>\n",
       "      <td>6745.000000</td>\n",
       "      <td>4095.000000</td>\n",
       "    </tr>\n",
       "    <tr>\n",
       "      <th>mean</th>\n",
       "      <td>3384.644922</td>\n",
       "      <td>149.501343</td>\n",
       "    </tr>\n",
       "    <tr>\n",
       "      <th>std</th>\n",
       "      <td>1955.099667</td>\n",
       "      <td>86.051994</td>\n",
       "    </tr>\n",
       "    <tr>\n",
       "      <th>min</th>\n",
       "      <td>1.000000</td>\n",
       "      <td>1.000000</td>\n",
       "    </tr>\n",
       "    <tr>\n",
       "      <th>25%</th>\n",
       "      <td>1691.000000</td>\n",
       "      <td>75.000000</td>\n",
       "    </tr>\n",
       "    <tr>\n",
       "      <th>50%</th>\n",
       "      <td>3387.000000</td>\n",
       "      <td>149.000000</td>\n",
       "    </tr>\n",
       "    <tr>\n",
       "      <th>75%</th>\n",
       "      <td>5080.000000</td>\n",
       "      <td>224.000000</td>\n",
       "    </tr>\n",
       "    <tr>\n",
       "      <th>max</th>\n",
       "      <td>6766.000000</td>\n",
       "      <td>300.000000</td>\n",
       "    </tr>\n",
       "  </tbody>\n",
       "</table>\n",
       "</div>"
      ],
      "text/plain": [
       "        Request id    Driver id\n",
       "count  6745.000000  4095.000000\n",
       "mean   3384.644922   149.501343\n",
       "std    1955.099667    86.051994\n",
       "min       1.000000     1.000000\n",
       "25%    1691.000000    75.000000\n",
       "50%    3387.000000   149.000000\n",
       "75%    5080.000000   224.000000\n",
       "max    6766.000000   300.000000"
      ]
     },
     "execution_count": 400,
     "metadata": {},
     "output_type": "execute_result"
    }
   ],
   "source": [
    "# 5.1 Descriptive statistics in general:\n",
    "uber.describe()\n",
    "\n",
    "# If we compute descriptive statistics on any dtaframe, it computes the metrics on all quantitative variables by default."
   ]
  },
  {
   "cell_type": "markdown",
   "metadata": {},
   "source": [
    "*__`Remark:`__* *These __statistics__ carry no meaning since the `columns` are only __`ids`__.*"
   ]
  },
  {
   "cell_type": "code",
   "execution_count": 401,
   "metadata": {},
   "outputs": [
    {
     "data": {
      "text/html": [
       "<div>\n",
       "<style scoped>\n",
       "    .dataframe tbody tr th:only-of-type {\n",
       "        vertical-align: middle;\n",
       "    }\n",
       "\n",
       "    .dataframe tbody tr th {\n",
       "        vertical-align: top;\n",
       "    }\n",
       "\n",
       "    .dataframe thead th {\n",
       "        text-align: right;\n",
       "    }\n",
       "</style>\n",
       "<table border=\"1\" class=\"dataframe\">\n",
       "  <thead>\n",
       "    <tr style=\"text-align: right;\">\n",
       "      <th></th>\n",
       "      <th>Pickup point</th>\n",
       "      <th>Status</th>\n",
       "    </tr>\n",
       "  </thead>\n",
       "  <tbody>\n",
       "    <tr>\n",
       "      <th>count</th>\n",
       "      <td>6745</td>\n",
       "      <td>6745</td>\n",
       "    </tr>\n",
       "    <tr>\n",
       "      <th>unique</th>\n",
       "      <td>2</td>\n",
       "      <td>3</td>\n",
       "    </tr>\n",
       "    <tr>\n",
       "      <th>top</th>\n",
       "      <td>City</td>\n",
       "      <td>Trip Completed</td>\n",
       "    </tr>\n",
       "    <tr>\n",
       "      <th>freq</th>\n",
       "      <td>3507</td>\n",
       "      <td>2831</td>\n",
       "    </tr>\n",
       "  </tbody>\n",
       "</table>\n",
       "</div>"
      ],
      "text/plain": [
       "       Pickup point          Status\n",
       "count          6745            6745\n",
       "unique            2               3\n",
       "top            City  Trip Completed\n",
       "freq           3507            2831"
      ]
     },
     "execution_count": 401,
     "metadata": {},
     "output_type": "execute_result"
    }
   ],
   "source": [
    "#5.2 Descriptive statistics on \"Categorical Variables\"\n",
    "uber[['Pickup point','Status']].describe()"
   ]
  },
  {
   "cell_type": "markdown",
   "metadata": {},
   "source": [
    "**_`Observations:`_** *We may not get as much insight as we get for meaningful quantitative variables but we can get a few insights:* \n",
    "\n",
    "- We have __`no null values`__ in data for the stated categorical variables.(We know this from *`uber.info()`*)\n",
    "- Trips from __`city`__ to __`airport`__ are greater at approx **52%** (3507/6745).\n",
    "- __`Trip completed`__ tops the __`status`__ and approx. **42%** trips are *completed*. "
   ]
  },
  {
   "cell_type": "markdown",
   "metadata": {},
   "source": [
    "### Subtask 0.2: Making a `duplicate copy` of original data set"
   ]
  },
  {
   "cell_type": "code",
   "execution_count": 402,
   "metadata": {},
   "outputs": [],
   "source": [
    "# Duplicate copy of 'uber' dataframe\n",
    "uber_duplicate = uber.copy()"
   ]
  },
  {
   "cell_type": "markdown",
   "metadata": {},
   "source": [
    "*__`Note:`__* Making a duplicate copy is to make sure that we save original data so that we can retrieve it if and when required. "
   ]
  },
  {
   "cell_type": "markdown",
   "metadata": {},
   "source": [
    "## Task 1: `Cleaning` Data"
   ]
  },
  {
   "cell_type": "markdown",
   "metadata": {},
   "source": [
    "### Subtask 1.1: Inspecting for `duplicate rows`"
   ]
  },
  {
   "cell_type": "code",
   "execution_count": 403,
   "metadata": {},
   "outputs": [
    {
     "data": {
      "text/plain": [
       "False    6745\n",
       "dtype: int64"
      ]
     },
     "execution_count": 403,
     "metadata": {},
     "output_type": "execute_result"
    }
   ],
   "source": [
    "# Let us check and delete the duplicates if any.\n",
    "uber.duplicated().sum()          # Output: 0, when no duplicates\n",
    "# or\n",
    "uber.duplicated().value_counts() # Output: False 6745, All rows are unique (another way of confirming no duplicates)"
   ]
  },
  {
   "cell_type": "markdown",
   "metadata": {},
   "source": [
    "__*`Remarks:`*__ There are `no duplicate rows` to drop. "
   ]
  },
  {
   "cell_type": "markdown",
   "metadata": {},
   "source": [
    "### Subtask 1.2: Inspecting `Column-wise Null values`"
   ]
  },
  {
   "cell_type": "code",
   "execution_count": 404,
   "metadata": {},
   "outputs": [
    {
     "data": {
      "text/html": [
       "<div>\n",
       "<style scoped>\n",
       "    .dataframe tbody tr th:only-of-type {\n",
       "        vertical-align: middle;\n",
       "    }\n",
       "\n",
       "    .dataframe tbody tr th {\n",
       "        vertical-align: top;\n",
       "    }\n",
       "\n",
       "    .dataframe thead th {\n",
       "        text-align: right;\n",
       "    }\n",
       "</style>\n",
       "<table border=\"1\" class=\"dataframe\">\n",
       "  <thead>\n",
       "    <tr style=\"text-align: right;\">\n",
       "      <th></th>\n",
       "      <th>Total null values</th>\n",
       "      <th>Percent null values</th>\n",
       "    </tr>\n",
       "  </thead>\n",
       "  <tbody>\n",
       "    <tr>\n",
       "      <th>Request id</th>\n",
       "      <td>0</td>\n",
       "      <td>0.000000</td>\n",
       "    </tr>\n",
       "    <tr>\n",
       "      <th>Pickup point</th>\n",
       "      <td>0</td>\n",
       "      <td>0.000000</td>\n",
       "    </tr>\n",
       "    <tr>\n",
       "      <th>Driver id</th>\n",
       "      <td>2650</td>\n",
       "      <td>39.288362</td>\n",
       "    </tr>\n",
       "    <tr>\n",
       "      <th>Status</th>\n",
       "      <td>0</td>\n",
       "      <td>0.000000</td>\n",
       "    </tr>\n",
       "    <tr>\n",
       "      <th>Request timestamp</th>\n",
       "      <td>0</td>\n",
       "      <td>0.000000</td>\n",
       "    </tr>\n",
       "    <tr>\n",
       "      <th>Drop timestamp</th>\n",
       "      <td>3914</td>\n",
       "      <td>58.028169</td>\n",
       "    </tr>\n",
       "  </tbody>\n",
       "</table>\n",
       "</div>"
      ],
      "text/plain": [
       "                   Total null values  Percent null values\n",
       "Request id                         0             0.000000\n",
       "Pickup point                       0             0.000000\n",
       "Driver id                       2650            39.288362\n",
       "Status                             0             0.000000\n",
       "Request timestamp                  0             0.000000\n",
       "Drop timestamp                  3914            58.028169"
      ]
     },
     "execution_count": 404,
     "metadata": {},
     "output_type": "execute_result"
    }
   ],
   "source": [
    "# To get the total number of null values in each column:\n",
    "column_wise_null_values = uber.isnull().sum(axis = 0)\n",
    "\n",
    "# To get the percentage of null values in each column:\n",
    "column_wise_percent_null_values = (column_wise_null_values/uber.shape[0])*100\n",
    "\n",
    "# Summary dataframe:\n",
    "column_wise_null_summary = pd.concat([column_wise_null_values,column_wise_percent_null_values], axis = 1)\n",
    "column_wise_null_summary.columns = ['Total null values', 'Percent null values']\n",
    "\n",
    "# Display:\n",
    "column_wise_null_summary"
   ]
  },
  {
   "cell_type": "markdown",
   "metadata": {},
   "source": [
    "__*`Observation:`*__ \n",
    "1. Null values in __`Drop timestamp`__ are as high as __58%__. But it is inappropriate to drop this column here for 2 reasons\n",
    "    \n",
    "    - `Airport drop-time` might be an important factor to `analyze driver waiting times and consequent cancellations` . \n",
    "    - If data is missing mostly from `city drop-time`, it won't effect the analysis to keep the null values as it is. \n",
    "   \n",
    "2. Null values in __`Driver id`__ do not effect the analysis since our `focus is not on individual drivers`.\n",
    "\n",
    "__*`Remarks:`*__ \n",
    "- So far, I don't find any necessity in deleting column-wise data. Let's think of `alternative approach to impute data` if we find it necessary in future.\n",
    "- Chances are, `keeping the values as it is won't have any adverse effect on analysis`."
   ]
  },
  {
   "cell_type": "markdown",
   "metadata": {},
   "source": [
    "### Subtask 1.3: Inspecting `Row-wise Null values`"
   ]
  },
  {
   "cell_type": "code",
   "execution_count": 405,
   "metadata": {},
   "outputs": [
    {
     "data": {
      "text/plain": [
       "0    2831\n",
       "2    2650\n",
       "1    1264\n",
       "dtype: int64"
      ]
     },
     "execution_count": 405,
     "metadata": {},
     "output_type": "execute_result"
    }
   ],
   "source": [
    "# To get the row-wise null value distribution:\n",
    "row_wise_null_values = uber.isnull().sum(axis = 1)\n",
    "row_wise_null_values.value_counts()"
   ]
  },
  {
   "cell_type": "markdown",
   "metadata": {},
   "source": [
    "__*`Observation:`*__ \n",
    "1. The row-wise missing values exactly match the sum of column-wise missing values. `No over-lap`.\n",
    "2. `No rows with all the rows missing.`\n",
    "\n",
    "__*`Remarks:`*__ \n",
    "- For time being, let us not delete any rows. Let us impute at a later time if necessary.\n",
    "- Chances are, `keeping the values as it is won't have any adverse effect on analysis`."
   ]
  },
  {
   "cell_type": "markdown",
   "metadata": {},
   "source": [
    "### Subtask 1.4: `Date-Time` formating "
   ]
  },
  {
   "cell_type": "code",
   "execution_count": 406,
   "metadata": {},
   "outputs": [],
   "source": [
    "# Changing generic object data type to 'datetime' object in the following columns\n",
    "# 1. Request timestamp\n",
    "uber['Request timestamp'] = pd.to_datetime(uber['Request timestamp'])\n",
    "# 2. Drop timestamp\n",
    "uber['Drop timestamp'] = pd.to_datetime(uber['Drop timestamp'])"
   ]
  },
  {
   "cell_type": "markdown",
   "metadata": {},
   "source": [
    "#### Inspecting dataframe changes using\n",
    "1. `head()` to see whether it is uniformly formattted\n",
    "2. `dtypes` to check the data type change"
   ]
  },
  {
   "cell_type": "code",
   "execution_count": 407,
   "metadata": {},
   "outputs": [
    {
     "data": {
      "text/html": [
       "<div>\n",
       "<style scoped>\n",
       "    .dataframe tbody tr th:only-of-type {\n",
       "        vertical-align: middle;\n",
       "    }\n",
       "\n",
       "    .dataframe tbody tr th {\n",
       "        vertical-align: top;\n",
       "    }\n",
       "\n",
       "    .dataframe thead th {\n",
       "        text-align: right;\n",
       "    }\n",
       "</style>\n",
       "<table border=\"1\" class=\"dataframe\">\n",
       "  <thead>\n",
       "    <tr style=\"text-align: right;\">\n",
       "      <th></th>\n",
       "      <th>Request id</th>\n",
       "      <th>Pickup point</th>\n",
       "      <th>Driver id</th>\n",
       "      <th>Status</th>\n",
       "      <th>Request timestamp</th>\n",
       "      <th>Drop timestamp</th>\n",
       "    </tr>\n",
       "  </thead>\n",
       "  <tbody>\n",
       "    <tr>\n",
       "      <th>0</th>\n",
       "      <td>619</td>\n",
       "      <td>Airport</td>\n",
       "      <td>1.0</td>\n",
       "      <td>Trip Completed</td>\n",
       "      <td>2016-11-07 11:51:00</td>\n",
       "      <td>2016-11-07 13:00:00</td>\n",
       "    </tr>\n",
       "    <tr>\n",
       "      <th>1</th>\n",
       "      <td>867</td>\n",
       "      <td>Airport</td>\n",
       "      <td>1.0</td>\n",
       "      <td>Trip Completed</td>\n",
       "      <td>2016-11-07 17:57:00</td>\n",
       "      <td>2016-11-07 18:47:00</td>\n",
       "    </tr>\n",
       "  </tbody>\n",
       "</table>\n",
       "</div>"
      ],
      "text/plain": [
       "   Request id Pickup point  Driver id          Status   Request timestamp  \\\n",
       "0         619      Airport        1.0  Trip Completed 2016-11-07 11:51:00   \n",
       "1         867      Airport        1.0  Trip Completed 2016-11-07 17:57:00   \n",
       "\n",
       "       Drop timestamp  \n",
       "0 2016-11-07 13:00:00  \n",
       "1 2016-11-07 18:47:00  "
      ]
     },
     "execution_count": 407,
     "metadata": {},
     "output_type": "execute_result"
    }
   ],
   "source": [
    "# Verifying Formatting\n",
    "uber.head(2)"
   ]
  },
  {
   "cell_type": "code",
   "execution_count": 408,
   "metadata": {
    "scrolled": true
   },
   "outputs": [
    {
     "data": {
      "text/plain": [
       "Request timestamp    datetime64[ns]\n",
       "Drop timestamp       datetime64[ns]\n",
       "dtype: object"
      ]
     },
     "execution_count": 408,
     "metadata": {},
     "output_type": "execute_result"
    }
   ],
   "source": [
    "# Verifying data type of date columns \n",
    "uber[['Request timestamp','Drop timestamp']].dtypes"
   ]
  },
  {
   "cell_type": "markdown",
   "metadata": {},
   "source": [
    "__*`Remarks:`*__ Uniform formatting of all date-time based columns is complete"
   ]
  },
  {
   "cell_type": "markdown",
   "metadata": {},
   "source": [
    "### Subtask 1.5: Creating `derived metrics` "
   ]
  },
  {
   "cell_type": "markdown",
   "metadata": {},
   "source": [
    "__`Derived Variables:`__ As part of the analysis. Let us divide date-time stamps in the dataframe into distinct date and time stamp for each column.\n",
    "\n",
    "1. *__`Request timestamp:`__* `Request date` + `Request time`\n",
    "    1. *__`Request date:`__* Retrieve `date` from Request timestamp \n",
    "    2. *__`Request time:`__*  Retrieve `time` from Request timestamp\n",
    "    3. *__`Request hour:`__* Retrieve `hour` from Request timestamp  \n",
    "   \n",
    "    "
   ]
  },
  {
   "cell_type": "markdown",
   "metadata": {},
   "source": [
    "2. *__`Drop timestamp:`__* `Drop date` + `Drop time`\n",
    "    1. *__`Drop date:`__* Retrieve `date` from Drop timestamp\n",
    "    2. *__`Drop time:`__*  Retrieve `time` from Drop timestamp\n",
    "    3. *__`Drop hour:`__* Retrieve `hour` from Drop timestamp  \n",
    "   \n",
    "    "
   ]
  },
  {
   "cell_type": "markdown",
   "metadata": {},
   "source": [
    "3. __*`Request time slot:`*__ as another derived categorical variable with defining `hrs` between.\n",
    "    1. `Early morning:` Between 4 - 8  \n",
    "    2. `Morning:`  Between 8 - 12\n",
    "    3. `Afternoon:` Between 12 -  16\n",
    "    4. `Evening:` Between 16 - 20\n",
    "    5. `Night:` Between 20 to 23 and 23 - 0\n",
    "    6. `Late Night:` Between 0 - 4"
   ]
  },
  {
   "cell_type": "markdown",
   "metadata": {},
   "source": [
    "__*`Remarks:`*__\n",
    "1. `Request time/hour`,`Drop time/hour` might help in performing `univariate analysis on time slots` independent of dates to get a closer `view on supply demand scenario` at different time slots in any given day (Ex: morning, afternoon, midnight, like-wise).\n",
    "\n",
    "2. Let us try and make a 'Categorical Analysis' on 'Request time slot.'\n"
   ]
  },
  {
   "cell_type": "code",
   "execution_count": 409,
   "metadata": {},
   "outputs": [],
   "source": [
    "#1. Deriving variables from 'Request timestamp'\n",
    "# 1.A 'Request date'\n",
    "uber['Request date'] = uber['Request timestamp'].dt.date\n",
    "# 1.B 'Request time'\n",
    "uber['Request time'] = uber['Request timestamp'].dt.time\n",
    "# 1.C 'Request hour'\n",
    "uber['Request hour'] = uber['Request timestamp'].dt.hour\n",
    "\n",
    "\n",
    "#2. Deriving variables from 'Drop timestamp'\n",
    "# 2.A 'Drop date'\n",
    "uber['Drop date'] = uber['Drop timestamp'].dt.date\n",
    "# 2.B 'Drop time'\n",
    "uber['Drop time'] = uber['Drop timestamp'].dt.time\n",
    "# 2.C 'Drop hour'\n",
    "uber['Drop hour'] = uber['Drop timestamp'].dt.hour\n"
   ]
  },
  {
   "cell_type": "code",
   "execution_count": 410,
   "metadata": {},
   "outputs": [
    {
     "data": {
      "text/html": [
       "<div>\n",
       "<style scoped>\n",
       "    .dataframe tbody tr th:only-of-type {\n",
       "        vertical-align: middle;\n",
       "    }\n",
       "\n",
       "    .dataframe tbody tr th {\n",
       "        vertical-align: top;\n",
       "    }\n",
       "\n",
       "    .dataframe thead th {\n",
       "        text-align: right;\n",
       "    }\n",
       "</style>\n",
       "<table border=\"1\" class=\"dataframe\">\n",
       "  <thead>\n",
       "    <tr style=\"text-align: right;\">\n",
       "      <th></th>\n",
       "      <th>Request id</th>\n",
       "      <th>Pickup point</th>\n",
       "      <th>Driver id</th>\n",
       "      <th>Status</th>\n",
       "      <th>Request timestamp</th>\n",
       "      <th>Drop timestamp</th>\n",
       "      <th>Request date</th>\n",
       "      <th>Request time</th>\n",
       "      <th>Request hour</th>\n",
       "      <th>Drop date</th>\n",
       "      <th>Drop time</th>\n",
       "      <th>Drop hour</th>\n",
       "      <th>Request_time_slot</th>\n",
       "    </tr>\n",
       "  </thead>\n",
       "  <tbody>\n",
       "    <tr>\n",
       "      <th>0</th>\n",
       "      <td>619</td>\n",
       "      <td>Airport</td>\n",
       "      <td>1.0</td>\n",
       "      <td>Trip Completed</td>\n",
       "      <td>2016-11-07 11:51:00</td>\n",
       "      <td>2016-11-07 13:00:00</td>\n",
       "      <td>2016-11-07</td>\n",
       "      <td>11:51:00</td>\n",
       "      <td>11</td>\n",
       "      <td>2016-11-07</td>\n",
       "      <td>13:00:00</td>\n",
       "      <td>13.0</td>\n",
       "      <td>Morning</td>\n",
       "    </tr>\n",
       "    <tr>\n",
       "      <th>1</th>\n",
       "      <td>867</td>\n",
       "      <td>Airport</td>\n",
       "      <td>1.0</td>\n",
       "      <td>Trip Completed</td>\n",
       "      <td>2016-11-07 17:57:00</td>\n",
       "      <td>2016-11-07 18:47:00</td>\n",
       "      <td>2016-11-07</td>\n",
       "      <td>17:57:00</td>\n",
       "      <td>17</td>\n",
       "      <td>2016-11-07</td>\n",
       "      <td>18:47:00</td>\n",
       "      <td>18.0</td>\n",
       "      <td>Evening</td>\n",
       "    </tr>\n",
       "    <tr>\n",
       "      <th>2</th>\n",
       "      <td>1807</td>\n",
       "      <td>City</td>\n",
       "      <td>1.0</td>\n",
       "      <td>Trip Completed</td>\n",
       "      <td>2016-12-07 09:17:00</td>\n",
       "      <td>2016-12-07 09:58:00</td>\n",
       "      <td>2016-12-07</td>\n",
       "      <td>09:17:00</td>\n",
       "      <td>9</td>\n",
       "      <td>2016-12-07</td>\n",
       "      <td>09:58:00</td>\n",
       "      <td>9.0</td>\n",
       "      <td>Morning</td>\n",
       "    </tr>\n",
       "    <tr>\n",
       "      <th>3</th>\n",
       "      <td>2532</td>\n",
       "      <td>Airport</td>\n",
       "      <td>1.0</td>\n",
       "      <td>Trip Completed</td>\n",
       "      <td>2016-12-07 21:08:00</td>\n",
       "      <td>2016-12-07 22:03:00</td>\n",
       "      <td>2016-12-07</td>\n",
       "      <td>21:08:00</td>\n",
       "      <td>21</td>\n",
       "      <td>2016-12-07</td>\n",
       "      <td>22:03:00</td>\n",
       "      <td>22.0</td>\n",
       "      <td>Night</td>\n",
       "    </tr>\n",
       "    <tr>\n",
       "      <th>4</th>\n",
       "      <td>3112</td>\n",
       "      <td>City</td>\n",
       "      <td>1.0</td>\n",
       "      <td>Trip Completed</td>\n",
       "      <td>2016-07-13 08:33:16</td>\n",
       "      <td>2016-07-13 09:25:47</td>\n",
       "      <td>2016-07-13</td>\n",
       "      <td>08:33:16</td>\n",
       "      <td>8</td>\n",
       "      <td>2016-07-13</td>\n",
       "      <td>09:25:47</td>\n",
       "      <td>9.0</td>\n",
       "      <td>Early Morning</td>\n",
       "    </tr>\n",
       "  </tbody>\n",
       "</table>\n",
       "</div>"
      ],
      "text/plain": [
       "   Request id Pickup point  Driver id          Status   Request timestamp  \\\n",
       "0         619      Airport        1.0  Trip Completed 2016-11-07 11:51:00   \n",
       "1         867      Airport        1.0  Trip Completed 2016-11-07 17:57:00   \n",
       "2        1807         City        1.0  Trip Completed 2016-12-07 09:17:00   \n",
       "3        2532      Airport        1.0  Trip Completed 2016-12-07 21:08:00   \n",
       "4        3112         City        1.0  Trip Completed 2016-07-13 08:33:16   \n",
       "\n",
       "       Drop timestamp Request date Request time  Request hour   Drop date  \\\n",
       "0 2016-11-07 13:00:00   2016-11-07     11:51:00            11  2016-11-07   \n",
       "1 2016-11-07 18:47:00   2016-11-07     17:57:00            17  2016-11-07   \n",
       "2 2016-12-07 09:58:00   2016-12-07     09:17:00             9  2016-12-07   \n",
       "3 2016-12-07 22:03:00   2016-12-07     21:08:00            21  2016-12-07   \n",
       "4 2016-07-13 09:25:47   2016-07-13     08:33:16             8  2016-07-13   \n",
       "\n",
       "  Drop time  Drop hour Request_time_slot  \n",
       "0  13:00:00       13.0           Morning  \n",
       "1  18:47:00       18.0           Evening  \n",
       "2  09:58:00        9.0           Morning  \n",
       "3  22:03:00       22.0             Night  \n",
       "4  09:25:47        9.0     Early Morning  "
      ]
     },
     "execution_count": 410,
     "metadata": {},
     "output_type": "execute_result"
    }
   ],
   "source": [
    "# Deriving `Request time slot`\n",
    "uber = uber.assign(Request_time_slot = pd.cut(uber['Request hour'],[-1,4,8,12,16,20,24],labels = ['Late Night','Early Morning','Morning','Afternoon','Evening','Night']))\n",
    "uber.head()"
   ]
  },
  {
   "cell_type": "markdown",
   "metadata": {},
   "source": [
    "#### Inspecting dataframe changes using\n",
    "1. `head()` to see \n",
    "2. `info()` to verify the data type change"
   ]
  },
  {
   "cell_type": "code",
   "execution_count": 411,
   "metadata": {},
   "outputs": [
    {
     "data": {
      "text/html": [
       "<div>\n",
       "<style scoped>\n",
       "    .dataframe tbody tr th:only-of-type {\n",
       "        vertical-align: middle;\n",
       "    }\n",
       "\n",
       "    .dataframe tbody tr th {\n",
       "        vertical-align: top;\n",
       "    }\n",
       "\n",
       "    .dataframe thead th {\n",
       "        text-align: right;\n",
       "    }\n",
       "</style>\n",
       "<table border=\"1\" class=\"dataframe\">\n",
       "  <thead>\n",
       "    <tr style=\"text-align: right;\">\n",
       "      <th></th>\n",
       "      <th>Request id</th>\n",
       "      <th>Pickup point</th>\n",
       "      <th>Driver id</th>\n",
       "      <th>Status</th>\n",
       "      <th>Request timestamp</th>\n",
       "      <th>Drop timestamp</th>\n",
       "      <th>Request date</th>\n",
       "      <th>Request time</th>\n",
       "      <th>Request hour</th>\n",
       "      <th>Drop date</th>\n",
       "      <th>Drop time</th>\n",
       "      <th>Drop hour</th>\n",
       "      <th>Request_time_slot</th>\n",
       "    </tr>\n",
       "  </thead>\n",
       "  <tbody>\n",
       "    <tr>\n",
       "      <th>0</th>\n",
       "      <td>619</td>\n",
       "      <td>Airport</td>\n",
       "      <td>1.0</td>\n",
       "      <td>Trip Completed</td>\n",
       "      <td>2016-11-07 11:51:00</td>\n",
       "      <td>2016-11-07 13:00:00</td>\n",
       "      <td>2016-11-07</td>\n",
       "      <td>11:51:00</td>\n",
       "      <td>11</td>\n",
       "      <td>2016-11-07</td>\n",
       "      <td>13:00:00</td>\n",
       "      <td>13.0</td>\n",
       "      <td>Morning</td>\n",
       "    </tr>\n",
       "    <tr>\n",
       "      <th>1</th>\n",
       "      <td>867</td>\n",
       "      <td>Airport</td>\n",
       "      <td>1.0</td>\n",
       "      <td>Trip Completed</td>\n",
       "      <td>2016-11-07 17:57:00</td>\n",
       "      <td>2016-11-07 18:47:00</td>\n",
       "      <td>2016-11-07</td>\n",
       "      <td>17:57:00</td>\n",
       "      <td>17</td>\n",
       "      <td>2016-11-07</td>\n",
       "      <td>18:47:00</td>\n",
       "      <td>18.0</td>\n",
       "      <td>Evening</td>\n",
       "    </tr>\n",
       "  </tbody>\n",
       "</table>\n",
       "</div>"
      ],
      "text/plain": [
       "   Request id Pickup point  Driver id          Status   Request timestamp  \\\n",
       "0         619      Airport        1.0  Trip Completed 2016-11-07 11:51:00   \n",
       "1         867      Airport        1.0  Trip Completed 2016-11-07 17:57:00   \n",
       "\n",
       "       Drop timestamp Request date Request time  Request hour   Drop date  \\\n",
       "0 2016-11-07 13:00:00   2016-11-07     11:51:00            11  2016-11-07   \n",
       "1 2016-11-07 18:47:00   2016-11-07     17:57:00            17  2016-11-07   \n",
       "\n",
       "  Drop time  Drop hour Request_time_slot  \n",
       "0  13:00:00       13.0           Morning  \n",
       "1  18:47:00       18.0           Evening  "
      ]
     },
     "execution_count": 411,
     "metadata": {},
     "output_type": "execute_result"
    }
   ],
   "source": [
    "# 1. Viewing dataframe\n",
    "uber.head(2)"
   ]
  },
  {
   "cell_type": "code",
   "execution_count": 412,
   "metadata": {
    "scrolled": true
   },
   "outputs": [
    {
     "name": "stdout",
     "output_type": "stream",
     "text": [
      "<class 'pandas.core.frame.DataFrame'>\n",
      "RangeIndex: 6745 entries, 0 to 6744\n",
      "Data columns (total 13 columns):\n",
      "Request id           6745 non-null int64\n",
      "Pickup point         6745 non-null object\n",
      "Driver id            4095 non-null float64\n",
      "Status               6745 non-null object\n",
      "Request timestamp    6745 non-null datetime64[ns]\n",
      "Drop timestamp       2831 non-null datetime64[ns]\n",
      "Request date         6745 non-null object\n",
      "Request time         6745 non-null object\n",
      "Request hour         6745 non-null int64\n",
      "Drop date            2831 non-null object\n",
      "Drop time            2831 non-null object\n",
      "Drop hour            2831 non-null float64\n",
      "Request_time_slot    6745 non-null category\n",
      "dtypes: category(1), datetime64[ns](2), float64(2), int64(2), object(6)\n",
      "memory usage: 639.2+ KB\n"
     ]
    }
   ],
   "source": [
    "# 2. Verifying datatypes of new columns\n",
    "uber.info()"
   ]
  },
  {
   "cell_type": "markdown",
   "metadata": {},
   "source": [
    "#### Date-time formatting of derived metrics/variables"
   ]
  },
  {
   "cell_type": "code",
   "execution_count": 413,
   "metadata": {},
   "outputs": [],
   "source": [
    "# Changing generic object data type of derived metrics/variables to 'datetime' object in the following columns\n",
    "# 1.1 Request date\n",
    "uber['Request date'] = pd.to_datetime(uber['Request date'])\n",
    "\n",
    "# 2.1 Drop date\n",
    "uber['Drop date'] = pd.to_datetime(uber['Drop date'])"
   ]
  },
  {
   "cell_type": "markdown",
   "metadata": {},
   "source": [
    "#### Inspecting data-type changes using dtypes"
   ]
  },
  {
   "cell_type": "code",
   "execution_count": 414,
   "metadata": {},
   "outputs": [
    {
     "data": {
      "text/plain": [
       "Request date    datetime64[ns]\n",
       "Drop date       datetime64[ns]\n",
       "dtype: object"
      ]
     },
     "execution_count": 414,
     "metadata": {},
     "output_type": "execute_result"
    }
   ],
   "source": [
    "uber[['Request date','Drop date']].dtypes"
   ]
  },
  {
   "cell_type": "markdown",
   "metadata": {},
   "source": [
    "## Task 2: `Visualization` of data"
   ]
  },
  {
   "cell_type": "markdown",
   "metadata": {},
   "source": [
    "### Subtask  2.1: Frequency analysis of `Categorical Variables`\n",
    "### Subtask 2.1.1: `Univariate analysis` of:\n",
    " 1. __*`Status:`*__ The frequency distribution of this suggests whether\n",
    "     1. __*`No Cars Available`:*__ There is no supply at any given time-slots\n",
    "     2. __*`Cancelled`:*__ The drivers are not willing to attend the request\n",
    " "
   ]
  },
  {
   "cell_type": "markdown",
   "metadata": {},
   "source": [
    "### Subtask 2.1.2: `Segmented Univariate analysis` of:\n",
    " 1. __*`Status w.r.t pickup point:`*__ The frequency distribution of this suggests whether `there is a dearth of cars is from airport or to airport`.\n",
    " \n",
    "     1. __*`No Cars Available`:*__ There is no supply at any given location\n",
    "     2. __*`Cancelled`:*__ The drivers are not willing to attend the request"
   ]
  },
  {
   "cell_type": "markdown",
   "metadata": {},
   "source": [
    "__*Note:*__  \n",
    "1. *As we further discuss in comments , Categorical variables have only count, so we use `countplot()` instead of `boxplot()`.*\n",
    "2. *In here, only `Cancelled`  and `No cars available` status are represented graphically. (I found no meeaning in representing `Trip completed` in this univariate analysis - no added value )*"
   ]
  },
  {
   "cell_type": "code",
   "execution_count": 415,
   "metadata": {},
   "outputs": [
    {
     "data": {
      "image/png": "[encoded data removed]",
      "text/plain": [
       "<Figure size 1440x360 with 2 Axes>"
      ]
     },
     "metadata": {
      "needs_background": "light"
     },
     "output_type": "display_data"
    }
   ],
   "source": [
    "# Let us do the analysis for the above mentioned anamoly/undesired statuses.\n",
    "# Data was taken into another dataframe to avoid data corruption in uber (main dataframe)\n",
    "uber_status_anamolies = uber[uber['Status'] != 'Trip Completed']\n",
    "\n",
    "# Subtask 2.1.1: Univariate/Frequency analysis of Categorical Variable (Status)\n",
    "# Note: Any frequency/descriptive analysis of categorical variables is limited to understanding \n",
    "# \"Count: How many times a particular category alias activity is frequented/repeated in the data.\"\n",
    "\n",
    "\n",
    "# Subplot 1: Univariate analysis on categorical variable 'Status'.\n",
    "plt.figure(figsize=(20, 5))                               # Figure Size\n",
    "plt.subplot(1, 2, 1)                                       # Subplot positioning\n",
    "ax = sns.countplot(x=\"Status\", data=uber_status_anamolies) # Plot definition\n",
    "plt.title(\"figure 1:Status frequency\")                              # Plot title\n",
    "\n",
    "# Plot formatting adding % of each category data as bar index on top for understanding\n",
    "total = float(len(uber_status_anamolies))       \n",
    "for p in ax.patches:\n",
    "    height = p.get_height()\n",
    "    ax.text(p.get_x()+p.get_width()/2.,                    # Formatting\n",
    "            height + 5,\n",
    "            '{:1.2f}'.format((height/total)*100),          # % calculation only in undesired statuses\n",
    "            ha=\"center\") \n",
    "    \n",
    "# Subtask 2.1.2: Segmented univariate analysis on categorical variable w.r.t pick-up point    \n",
    "\n",
    "# subplot 2: Status frequency w.r.t pickup point (Segmented univariate analysis)\n",
    "\n",
    "plt.subplot(1, 2, 2)                                       # Subbplot positioning\n",
    "ax1 = sns.countplot(x='Status',            \n",
    "              hue='Pickup point', \n",
    "                    data= uber_status_anamolies)           # Plot definition\n",
    "plt.title(\"Figure 2: Status frequency w.r.t pickup point\")  \n",
    "\n",
    "# Plot formatting adding % of each category data as bar index on top for understanding\n",
    "total = float(len(uber_status_anamolies))       \n",
    "for p in ax1.patches:\n",
    "    height = p.get_height()\n",
    "    ax1.text(p.get_x()+p.get_width()/2.,                   # Formatting\n",
    "            height + 5,\n",
    "            '{:1.2f}'.format((height/total)*100),          # % calculation on undesired statuses\n",
    "            ha=\"center\") \n",
    "\n",
    "plt.show()\n",
    "\n",
    "\n",
    "# Saving plots:\n",
    "fig = ax.get_figure()\n",
    "fig.savefig('E:/Status_frequency.png')"
   ]
  },
  {
   "cell_type": "markdown",
   "metadata": {},
   "source": [
    "__*`Remarks:`*__\n",
    "1. The number headings on top of the bars are `% of times each status applied to a request w.r.t total requests recording \"No cars available\" and \"Canceled\" status`\n",
    "2. `Subplot 1:` Typically, Cars are not available more than double the times to cancellations by driver/customer.\n",
    "3. `Subplot 2:` It's a segmented univariate analysis  from `City to airport` and `Airport to City`\n",
    "    1. `Cancellations from airport` are very less (only 5%)\n",
    "    2. Both `Cancellations and Non-availability` relatively equally plays a role in supply-demand gap from `city to airport` together owning to more  than 50% times.\n",
    "    3. Customers `booking from airports`having hard time finding a car mostly due to their `Non availability`\n",
    "    4. Supply-demand gap is almost equal from `Airport to city` or  `City to airport`.\n",
    "       "
   ]
  },
  {
   "cell_type": "markdown",
   "metadata": {},
   "source": [
    "### Subtask 2.1.3: `Segmented Univariate analysis` of:\n",
    " 1. __*`Status w.r.t Request_time_slots:`*__ The frequency distribution of this helps to locate the specific characterestic of supply demand in different slots of a day. \n",
    " \n",
    "     1. __*`No Cars Available`:*__ In which periods of day, there is high demand than supply.\n",
    "     2. __*`Cancelled`:*__ When drivers are unwilling to take the request."
   ]
  },
  {
   "cell_type": "markdown",
   "metadata": {},
   "source": [
    "__*`Note:`*__ *I am planning to restrict even this analysis tothe atypical statuses - `Cancelled` and `No Cars Available`.*"
   ]
  },
  {
   "cell_type": "code",
   "execution_count": 416,
   "metadata": {},
   "outputs": [
    {
     "data": {
      "image/png": "[encoded data removed]",
      "text/plain": [
       "<Figure size 1440x504 with 1 Axes>"
      ]
     },
     "metadata": {
      "needs_background": "light"
     },
     "output_type": "display_data"
    }
   ],
   "source": [
    "# Subtask 2.1.3: Segmented univariate analysis on categorical variable w.r.t time slots    \n",
    "\n",
    "# subplot 2: Status frequency w.r.t Request_time_slots (Segmented univariate analysis)\n",
    "\n",
    "plt.figure(figsize=(20, 7))                               # Figure Size\n",
    "ax2 = sns.countplot(x='Status',            \n",
    "              hue='Request_time_slot', \n",
    "                    data= uber_status_anamolies)           # Plot definition\n",
    "plt.title(\"figure 3: Status frequency w.r.t Request_time_slot\")  \n",
    "\n",
    "# Plot formatting adding % of each category data as bar index on top for understanding\n",
    "total = float(len(uber_status_anamolies))       \n",
    "for p in ax2.patches:\n",
    "    height = p.get_height()\n",
    "    ax2.text(p.get_x()+p.get_width()/2.,                   # Formatting\n",
    "            height + 5,\n",
    "            '{:1.2f}'.format((height/total)*100),          # % calculation on undesired statuses\n",
    "            ha=\"center\") \n",
    "\n",
    "plt.show()\n",
    "\n",
    "fig = ax2.get_figure()\n",
    "fig.savefig('E:/Status_frequency_request_time.png')"
   ]
  },
  {
   "cell_type": "markdown",
   "metadata": {},
   "source": [
    "__*`Remarks:`*__ \n",
    "1. `Cancellations:` They may be from `Driver side` or `Customer side`.\n",
    "    - Since there are more prominent early morning, i would expect driver is cancelling the trip rather than vice-versa.\n",
    "    - Adding with the fact from previous chart (Status frequency w.r.t pick-up point), we learnt `City to Airport` cancellations are more. \n",
    "    - `Conclusion:` __Drivers are not willing to go to airport in the early morning. \n",
    "    - *`Suggestion`*: __Incentivizing the driver by covering the cost of waiting time before another request comes might actually help him__\n",
    "2. `No cars available:` From previous charts, these are majorly from `Airport` but `City to Airport` also contributes substantially here.\n",
    "    - One can say, inflow of flights will ve more at `evenings` which might short the supply\n",
    "    - From `City to airport`, There ay be people going to places ohter than aiport (like home from offices) which will result in shortage. \n",
    "    - `Conclusion:` __Evening can be considered prime time.\n",
    "    - *`Suggestion`*: __More drivers from previous shifts should be pursuaded to do couple more hours and drivers from later shifts should be asked to join the pool a couple of  hrs early.__"
   ]
  },
  {
   "cell_type": "markdown",
   "metadata": {},
   "source": [
    "### Subtask 2.2: `Supply-Demand Gap` (A bivariate Analysis)\n",
    "__*`Understanding the objective:`*__\n",
    "1. Find the time slots when the highest gap exists:\n",
    "    - It helps to find `Trips Completed Vs 'All 3 status quos'`representation for each of the `Request_time_slot`independently.  \n",
    "2. Find the types of requests (city-airport or airport-city) for which the gap is the most severe in the identified time slots\n",
    "    - It helps to find `Trips Completed Vs 'All 3 Status quos'`representation for each of `Pickup points` the  independently."
   ]
  },
  {
   "cell_type": "markdown",
   "metadata": {},
   "source": [
    "__*Note:*__ \n",
    "1. *If we see it, `trips completed` meaning there is a `supply`.*\n",
    "2. *`Total requests raised` combaining all status quos is the `demand`. "
   ]
  },
  {
   "cell_type": "markdown",
   "metadata": {},
   "source": [
    "### Subtask 2.2.1: Supply-Demand Gap in `Requested Time Slot`"
   ]
  },
  {
   "cell_type": "code",
   "execution_count": 417,
   "metadata": {},
   "outputs": [
    {
     "data": {
      "text/html": [
       "<div>\n",
       "<style scoped>\n",
       "    .dataframe tbody tr th:only-of-type {\n",
       "        vertical-align: middle;\n",
       "    }\n",
       "\n",
       "    .dataframe tbody tr th {\n",
       "        vertical-align: top;\n",
       "    }\n",
       "\n",
       "    .dataframe thead th {\n",
       "        text-align: right;\n",
       "    }\n",
       "</style>\n",
       "<table border=\"1\" class=\"dataframe\">\n",
       "  <thead>\n",
       "    <tr style=\"text-align: right;\">\n",
       "      <th></th>\n",
       "      <th>Demand</th>\n",
       "      <th>Supply</th>\n",
       "      <th>Supply-demand gap Percent</th>\n",
       "    </tr>\n",
       "    <tr>\n",
       "      <th>Request_time_slot</th>\n",
       "      <th></th>\n",
       "      <th></th>\n",
       "      <th></th>\n",
       "    </tr>\n",
       "  </thead>\n",
       "  <tbody>\n",
       "    <tr>\n",
       "      <th>Late Night</th>\n",
       "      <td>578</td>\n",
       "      <td>214</td>\n",
       "      <td>62.975779</td>\n",
       "    </tr>\n",
       "    <tr>\n",
       "      <th>Early Morning</th>\n",
       "      <td>1672</td>\n",
       "      <td>681</td>\n",
       "      <td>59.270335</td>\n",
       "    </tr>\n",
       "    <tr>\n",
       "      <th>Morning</th>\n",
       "      <td>1029</td>\n",
       "      <td>525</td>\n",
       "      <td>48.979592</td>\n",
       "    </tr>\n",
       "    <tr>\n",
       "      <th>Afternoon</th>\n",
       "      <td>626</td>\n",
       "      <td>370</td>\n",
       "      <td>40.894569</td>\n",
       "    </tr>\n",
       "    <tr>\n",
       "      <th>Evening</th>\n",
       "      <td>1893</td>\n",
       "      <td>642</td>\n",
       "      <td>66.085578</td>\n",
       "    </tr>\n",
       "    <tr>\n",
       "      <th>Night</th>\n",
       "      <td>947</td>\n",
       "      <td>399</td>\n",
       "      <td>57.866948</td>\n",
       "    </tr>\n",
       "  </tbody>\n",
       "</table>\n",
       "</div>"
      ],
      "text/plain": [
       "                   Demand  Supply  Supply-demand gap Percent\n",
       "Request_time_slot                                           \n",
       "Late Night            578     214                  62.975779\n",
       "Early Morning        1672     681                  59.270335\n",
       "Morning              1029     525                  48.979592\n",
       "Afternoon             626     370                  40.894569\n",
       "Evening              1893     642                  66.085578\n",
       "Night                 947     399                  57.866948"
      ]
     },
     "execution_count": 417,
     "metadata": {},
     "output_type": "execute_result"
    }
   ],
   "source": [
    "# Dataframe grouped by `Requested time slots`\n",
    "# 1. Total demand dataframe computation\n",
    "uber_demand_wrt_time = uber.groupby('Request_time_slot').size()\n",
    "\n",
    "# 2. Total Supply dataframe computation\n",
    "uber_status_tripcompleted = uber[uber['Status'] == 'Trip Completed']\n",
    "uber_supply_wrt_time = uber_status_tripcompleted.groupby('Request_time_slot').size()\n",
    "\n",
    "# Derived Metrics: Percentage Supply for it's total demand in every slot: \n",
    "uber_supply_demand_gap_percent_wrt_time = (1 - (uber_supply_wrt_time/uber_demand_wrt_time))*100\n",
    "\n",
    "# Make a master dataframe of supply demand statistics in each of the 'request_time_slot'\n",
    "uber_supply_demand_stats_wrt_time = pd.concat([uber_demand_wrt_time,uber_supply_wrt_time,uber_supply_demand_gap_percent_wrt_time], axis = 1 )\n",
    "uber_supply_demand_stats_wrt_time.rename(columns= {0:'Demand',1:'Supply',2:'Supply-demand gap Percent'},inplace = True)\n",
    "\n",
    "uber_supply_demand_stats_wrt_time"
   ]
  },
  {
   "cell_type": "code",
   "execution_count": 418,
   "metadata": {},
   "outputs": [
    {
     "data": {
      "image/png": "[encoded data removed]",
      "text/plain": [
       "<Figure size 720x216 with 1 Axes>"
      ]
     },
     "metadata": {
      "needs_background": "light"
     },
     "output_type": "display_data"
    }
   ],
   "source": [
    "# Subtask 2.2.1: Segmented bivariate analysis on categorical variable w.r.t time slots    \n",
    "# Plot : Supply-demand w.r.t Request_time_slots (Segmented bivariate analysis)\n",
    "ax3 = uber_supply_demand_stats_wrt_time.plot(y=[\"Demand\",\"Supply\"], \n",
    "                                   kind=\"bar\",\n",
    "                                   use_index = True, \n",
    "                                   title = 'Figure 4: Supply-demand wr.t Request time slots',\n",
    "                                  figsize=(10, 3))           # Plot definition\n",
    "fig = ax3.get_figure()\n",
    "fig.savefig('E:/Supply_demand_time.png')"
   ]
  },
  {
   "cell_type": "markdown",
   "metadata": {},
   "source": [
    "__*`Remarks:`*__\n",
    "1. Highest `Supply-Demand gap` exists in __`Evening`__ w.r.t `Request time slots`\n",
    "2. Second inline is __`Early Morning`__\n",
    "3. To cross check `Supply-Demand Percent gap`, please check the dataframe formulated in the previous cell by computing the statistics"
   ]
  },
  {
   "cell_type": "markdown",
   "metadata": {},
   "source": [
    "### Subtask 2.2.2: Supply-Demand Gap in `Requested time slots` w.r.t `Pickup points`"
   ]
  },
  {
   "cell_type": "code",
   "execution_count": 419,
   "metadata": {},
   "outputs": [
    {
     "data": {
      "text/html": [
       "<div>\n",
       "<style scoped>\n",
       "    .dataframe tbody tr th:only-of-type {\n",
       "        vertical-align: middle;\n",
       "    }\n",
       "\n",
       "    .dataframe tbody tr th {\n",
       "        vertical-align: top;\n",
       "    }\n",
       "\n",
       "    .dataframe thead th {\n",
       "        text-align: right;\n",
       "    }\n",
       "</style>\n",
       "<table border=\"1\" class=\"dataframe\">\n",
       "  <thead>\n",
       "    <tr style=\"text-align: right;\">\n",
       "      <th></th>\n",
       "      <th></th>\n",
       "      <th>Demand</th>\n",
       "      <th>Supply</th>\n",
       "      <th>Supply-demand gap Percent</th>\n",
       "    </tr>\n",
       "    <tr>\n",
       "      <th>Request_time_slot</th>\n",
       "      <th>Pickup point</th>\n",
       "      <th></th>\n",
       "      <th></th>\n",
       "      <th></th>\n",
       "    </tr>\n",
       "  </thead>\n",
       "  <tbody>\n",
       "    <tr>\n",
       "      <th rowspan=\"2\" valign=\"top\">Late Night</th>\n",
       "      <th>Airport</th>\n",
       "      <td>253</td>\n",
       "      <td>103</td>\n",
       "      <td>59.288538</td>\n",
       "    </tr>\n",
       "    <tr>\n",
       "      <th>City</th>\n",
       "      <td>325</td>\n",
       "      <td>111</td>\n",
       "      <td>65.846154</td>\n",
       "    </tr>\n",
       "    <tr>\n",
       "      <th rowspan=\"2\" valign=\"top\">Early Morning</th>\n",
       "      <th>Airport</th>\n",
       "      <td>337</td>\n",
       "      <td>308</td>\n",
       "      <td>8.605341</td>\n",
       "    </tr>\n",
       "    <tr>\n",
       "      <th>City</th>\n",
       "      <td>1335</td>\n",
       "      <td>373</td>\n",
       "      <td>72.059925</td>\n",
       "    </tr>\n",
       "    <tr>\n",
       "      <th rowspan=\"2\" valign=\"top\">Morning</th>\n",
       "      <th>Airport</th>\n",
       "      <td>315</td>\n",
       "      <td>239</td>\n",
       "      <td>24.126984</td>\n",
       "    </tr>\n",
       "    <tr>\n",
       "      <th>City</th>\n",
       "      <td>714</td>\n",
       "      <td>286</td>\n",
       "      <td>59.943978</td>\n",
       "    </tr>\n",
       "    <tr>\n",
       "      <th rowspan=\"2\" valign=\"top\">Afternoon</th>\n",
       "      <th>Airport</th>\n",
       "      <td>252</td>\n",
       "      <td>162</td>\n",
       "      <td>35.714286</td>\n",
       "    </tr>\n",
       "    <tr>\n",
       "      <th>City</th>\n",
       "      <td>374</td>\n",
       "      <td>208</td>\n",
       "      <td>44.385027</td>\n",
       "    </tr>\n",
       "    <tr>\n",
       "      <th rowspan=\"2\" valign=\"top\">Evening</th>\n",
       "      <th>Airport</th>\n",
       "      <td>1457</td>\n",
       "      <td>312</td>\n",
       "      <td>78.586136</td>\n",
       "    </tr>\n",
       "    <tr>\n",
       "      <th>City</th>\n",
       "      <td>436</td>\n",
       "      <td>330</td>\n",
       "      <td>24.311927</td>\n",
       "    </tr>\n",
       "    <tr>\n",
       "      <th rowspan=\"2\" valign=\"top\">Night</th>\n",
       "      <th>Airport</th>\n",
       "      <td>624</td>\n",
       "      <td>203</td>\n",
       "      <td>67.467949</td>\n",
       "    </tr>\n",
       "    <tr>\n",
       "      <th>City</th>\n",
       "      <td>323</td>\n",
       "      <td>196</td>\n",
       "      <td>39.318885</td>\n",
       "    </tr>\n",
       "  </tbody>\n",
       "</table>\n",
       "</div>"
      ],
      "text/plain": [
       "                                Demand  Supply  Supply-demand gap Percent\n",
       "Request_time_slot Pickup point                                           \n",
       "Late Night        Airport          253     103                  59.288538\n",
       "                  City             325     111                  65.846154\n",
       "Early Morning     Airport          337     308                   8.605341\n",
       "                  City            1335     373                  72.059925\n",
       "Morning           Airport          315     239                  24.126984\n",
       "                  City             714     286                  59.943978\n",
       "Afternoon         Airport          252     162                  35.714286\n",
       "                  City             374     208                  44.385027\n",
       "Evening           Airport         1457     312                  78.586136\n",
       "                  City             436     330                  24.311927\n",
       "Night             Airport          624     203                  67.467949\n",
       "                  City             323     196                  39.318885"
      ]
     },
     "execution_count": 419,
     "metadata": {},
     "output_type": "execute_result"
    }
   ],
   "source": [
    "# Dataframe grouped by `Pickup points`\n",
    "# 1. Total demand dataframe computation\n",
    "uber_demand_wrt_pickup = uber.groupby(['Request_time_slot','Pickup point']).size()\n",
    "\n",
    "# 2. Total Supply dataframe computation\n",
    "uber_status_tripcompleted = uber[uber['Status'] == 'Trip Completed']\n",
    "uber_supply_wrt_pickup = uber_status_tripcompleted.groupby(['Request_time_slot','Pickup point']).size()\n",
    "\n",
    "# Derived Metrics: Percentage Supply for it's total demand in every slot: \n",
    "uber_supply_demand_gap_percent_wrt_pickup = (1 - (uber_supply_wrt_pickup/uber_demand_wrt_pickup))*100\n",
    "\n",
    "# Make a master dataframe of supply demand statistics in each of the 'request_time_slot'\n",
    "uber_supply_demand_stats_wrt_pickup = pd.concat([uber_demand_wrt_pickup,uber_supply_wrt_pickup,uber_supply_demand_gap_percent_wrt_pickup], axis = 1 )\n",
    "uber_supply_demand_stats_wrt_pickup.rename(columns= {0:'Demand',1:'Supply',2:'Supply-demand gap Percent'},inplace = True)\n",
    "\n",
    "uber_supply_demand_stats_wrt_pickup"
   ]
  },
  {
   "cell_type": "code",
   "execution_count": 420,
   "metadata": {},
   "outputs": [
    {
     "data": {
      "image/png": "[encoded data removed]",
      "text/plain": [
       "<Figure size 1440x288 with 1 Axes>"
      ]
     },
     "metadata": {
      "needs_background": "light"
     },
     "output_type": "display_data"
    }
   ],
   "source": [
    "# Subtask 2.2.2: Segmented bivariate analysis on categorical variable w.r.t 'Pickup points'   \n",
    "# Plot : Supply-Demand w.r.t 'Pickup points' (Segmented bivariate analysis)\n",
    "ax4 = uber_supply_demand_stats_wrt_pickup.plot(y=[\"Demand\",\"Supply\"], \n",
    "                                   kind=\"bar\",\n",
    "                                   use_index = True, \n",
    "                                   title = 'Figure 4: Supply-demand wr.t Request pick up points',\n",
    "                                  figsize=(20, 4))   # Plot definition\n",
    "fig = ax4.get_figure()\n",
    "fig.savefig('E:/Supply_demand_pickup.png')"
   ]
  },
  {
   "cell_type": "markdown",
   "metadata": {},
   "source": [
    "__*`Remarks:`*__ By far, in bivariate analysis, we get `Evening` and `Early Morning` as the first highest in order supply-demand gap zones.\n",
    "1. In connection with that:As we estimated previously w.r.t `Status`,\n",
    "    1. __`Early Morning from city to airport.`__\n",
    "    2. __`Evening from airport to city`__\n"
   ]
  },
  {
   "cell_type": "markdown",
   "metadata": {},
   "source": [
    "__*`Concluding Remarks:`*__  \n",
    "1. `Early morning` from `City-Airport` due to `driver cancellations`.\n",
    "2. `Evening` from `Airport-City` due to `Non Availability`\n",
    "    - *`Proable  Reason 1:`* *More inflow  of flights*\n",
    "    - *`Proable  Reason 2:`* *Other-wise heavy requests from with city-city front*"
   ]
  },
  {
   "cell_type": "markdown",
   "metadata": {},
   "source": [
    "__*`Recommendations:`*__\n",
    "1. For `Non Availability:`\n",
    "    1. Ask the drivers from `afternoon and night shifts` to adjust a couple of hours after and before their regular shift timings.\n",
    "    2. Incentivize them with some additional benefits if logging in early. `Prioritize such active drivers with requests`.\n",
    "2. For `Cancellations:`\n",
    "    1. Incentivize the drivers by paying for the `waiting times` at airport.\n",
    "    2. Ask the morning shift drivers nearest to airport to `start their day from airport`."
   ]
  },
  {
   "cell_type": "code",
   "execution_count": null,
   "metadata": {},
   "outputs": [],
   "source": []
  }
 ],
 "metadata": {
  "kernelspec": {
   "display_name": "Python 3",
   "language": "python",
   "name": "python3"
  },
  "language_info": {
   "codemirror_mode": {
    "name": "ipython",
    "version": 3
   },
   "file_extension": ".py",
   "mimetype": "text/x-python",
   "name": "python",
   "nbconvert_exporter": "python",
   "pygments_lexer": "ipython3",
   "version": "3.6.8"
  }
 },
 "nbformat": 4,
 "nbformat_minor": 2
}
